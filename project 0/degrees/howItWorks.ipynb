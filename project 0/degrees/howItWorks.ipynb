{
 "cells": [
  {
   "cell_type": "markdown",
   "metadata": {},
   "source": [
    "# 1 . Import modules and dependencies"
   ]
  },
  {
   "cell_type": "code",
   "execution_count": 1,
   "metadata": {},
   "outputs": [],
   "source": [
    "import csv\n",
    "import sys\n",
    "from util import Node, StackFrontier, QueueFrontier\n",
    "from degrees import person_id_for_name, neighbors_for_person"
   ]
  },
  {
   "cell_type": "markdown",
   "metadata": {},
   "source": [
    "# 2. Init settings"
   ]
  },
  {
   "cell_type": "code",
   "execution_count": 2,
   "metadata": {},
   "outputs": [],
   "source": [
    "# Maps names to a set of corresponding person_ids\n",
    "names = {}\n",
    "# Maps person_ids to a dictionary of: name, birth, movies (a set of movie_ids)\n",
    "people = {}\n",
    "# Maps movie_ids to a dictionary of: title, year, stars (a set of person_ids)\n",
    "movies = {}\n",
    "\n",
    "directory = \"small\""
   ]
  },
  {
   "cell_type": "markdown",
   "metadata": {},
   "source": [
    "# 3. Load data from files into memory"
   ]
  },
  {
   "cell_type": "code",
   "execution_count": 3,
   "metadata": {},
   "outputs": [],
   "source": [
    "def load_data(directory):\n",
    "    \"\"\"\n",
    "    Load data from CSV files into memory.\n",
    "    \"\"\"\n",
    "    # Load people\n",
    "    with open(f\"{directory}/people.csv\", encoding=\"utf-8\") as f:\n",
    "        reader = csv.DictReader(f)\n",
    "        for row in reader:\n",
    "            people[row[\"id\"]] = {\n",
    "                \"name\": row[\"name\"],\n",
    "                \"birth\": row[\"birth\"],\n",
    "                \"movies\": set()\n",
    "            }\n",
    "            if row[\"name\"].lower() not in names:\n",
    "                names[row[\"name\"].lower()] = {row[\"id\"]}\n",
    "            else:\n",
    "                names[row[\"name\"].lower()].add(row[\"id\"])\n",
    "\n",
    "    # Load movies\n",
    "    with open(f\"{directory}/movies.csv\", encoding=\"utf-8\") as f:\n",
    "        reader = csv.DictReader(f)\n",
    "        for row in reader:\n",
    "            movies[row[\"id\"]] = {\n",
    "                \"title\": row[\"title\"],\n",
    "                \"year\": row[\"year\"],\n",
    "                \"stars\": set()\n",
    "            }\n",
    "\n",
    "    # Load stars\n",
    "    with open(f\"{directory}/stars.csv\", encoding=\"utf-8\") as f:\n",
    "        reader = csv.DictReader(f)\n",
    "        for row in reader:\n",
    "            try:\n",
    "                people[row[\"person_id\"]][\"movies\"].add(row[\"movie_id\"])\n",
    "                movies[row[\"movie_id\"]][\"stars\"].add(row[\"person_id\"])\n",
    "            except KeyError:\n",
    "                pass"
   ]
  },
  {
   "cell_type": "code",
   "execution_count": 4,
   "metadata": {},
   "outputs": [
    {
     "name": "stdout",
     "output_type": "stream",
     "text": [
      "Loading data...\n",
      "Data loaded.\n"
     ]
    }
   ],
   "source": [
    "print(\"Loading data...\")\n",
    "load_data(directory)\n",
    "print(\"Data loaded.\")"
   ]
  },
  {
   "cell_type": "markdown",
   "metadata": {},
   "source": [
    "# 4. Set person 1 & 2"
   ]
  },
  {
   "cell_type": "code",
   "execution_count": 5,
   "metadata": {},
   "outputs": [],
   "source": [
    "def person_id_for_name(name):\n",
    "    \"\"\"\n",
    "    Returns the IMDB id for a person's name,\n",
    "    resolving ambiguities as needed.\n",
    "    \"\"\"\n",
    "    person_ids = list(names.get(name.lower(), set()))\n",
    "    if len(person_ids) == 0:\n",
    "        return None\n",
    "    elif len(person_ids) > 1:\n",
    "        print(f\"Which '{name}'?\")\n",
    "        for person_id in person_ids:\n",
    "            person = people[person_id]\n",
    "            name = person[\"name\"]\n",
    "            birth = person[\"birth\"]\n",
    "            print(f\"ID: {person_id}, Name: {name}, Birth: {birth}\")\n",
    "        try:\n",
    "            person_id = input(\"Intended Person ID: \")\n",
    "            if person_id in person_ids:\n",
    "                return person_id\n",
    "        except ValueError:\n",
    "            pass\n",
    "        return None\n",
    "    else:\n",
    "        return person_ids[0]"
   ]
  },
  {
   "cell_type": "code",
   "execution_count": 6,
   "metadata": {},
   "outputs": [
    {
     "name": "stdin",
     "output_type": "stream",
     "text": [
      "Name:  tom hanks\n",
      "Name:  demi moore\n"
     ]
    }
   ],
   "source": [
    "source = person_id_for_name(input(\"Name: \"))\n",
    "if source is None:\n",
    "    sys.exit(\"Person not found.\")\n",
    "target = person_id_for_name(input(\"Name: \"))\n",
    "if target is None:\n",
    "    sys.exit(\"Person not found.\")"
   ]
  },
  {
   "cell_type": "markdown",
   "metadata": {},
   "source": [
    "# 5. Find shortest path"
   ]
  },
  {
   "cell_type": "code",
   "execution_count": 7,
   "metadata": {},
   "outputs": [],
   "source": [
    "def neighbors_for_person(person_id):\n",
    "    \"\"\"\n",
    "    Returns (movie_id, person_id) pairs for people\n",
    "    who starred with a given person.\n",
    "    \"\"\"\n",
    "    movie_ids = people[person_id][\"movies\"]\n",
    "    neighbors = set()\n",
    "    for movie_id in movie_ids:\n",
    "        for person_id in movies[movie_id][\"stars\"]:\n",
    "            neighbors.add((movie_id, person_id))\n",
    "    return neighbors"
   ]
  },
  {
   "cell_type": "code",
   "execution_count": 8,
   "metadata": {},
   "outputs": [],
   "source": [
    "def printFailLine(node):\n",
    "    if node.parent is not None:\n",
    "        printFailLine(node.parent) \n",
    "    print(people[node.state][\"name\"] + \"-->\", end =\" \")"
   ]
  },
  {
   "cell_type": "code",
   "execution_count": 9,
   "metadata": {},
   "outputs": [],
   "source": [
    "def printSuccessLine(source, solution):\n",
    "    print(people[source][\"name\"] + \"-->\", end =\" \")\n",
    "    for index, pair in enumerate(solution): \n",
    "        if (index != len(solution) - 1):\n",
    "            print(people[pair[1]][\"name\"] + \"-->\", end =\" \")\n",
    "        else:\n",
    "            print(people[pair[1]][\"name\"])"
   ]
  },
  {
   "cell_type": "code",
   "execution_count": 10,
   "metadata": {},
   "outputs": [
    {
     "name": "stdout",
     "output_type": "stream",
     "text": [
      "Tom Hanks--> X\n",
      "Tom Hanks--> Gary Sinise--> X\n",
      "Tom Hanks--> Bill Paxton--> X\n",
      "Tom Hanks--> Robin Wright--> X\n",
      "Tom Hanks--> Kevin Bacon--> X\n",
      "Tom Hanks--> Sally Field--> X\n",
      "Tom Hanks--> Robin Wright--> Chris Sarandon--> X\n",
      "Tom Hanks--> Robin Wright--> Mandy Patinkin--> X\n",
      "Tom Hanks--> Robin Wright--> Cary Elwes--> X\n",
      "Tom Hanks--> Kevin Bacon--> Tom Cruise--> X\n",
      "Tom Hanks--> Kevin Bacon--> Jack Nicholson--> X\n",
      "Tom Hanks--> Kevin Bacon--> Demi Moore\n"
     ]
    }
   ],
   "source": [
    "\n",
    "start = Node(state = source, parent = None, action = None)\n",
    "frontier = QueueFrontier()\n",
    "frontier.add(start)\n",
    "explored = set()\n",
    "\n",
    "while True:\n",
    "    if frontier.empty():\n",
    "        path = None\n",
    "        break\n",
    "\n",
    "    node = frontier.remove()\n",
    "    if node.state == target:\n",
    "        solution = []\n",
    "        while node.parent is not None:\n",
    "            pair = (node.action, node.state)\n",
    "            solution.append(pair)\n",
    "            node = node.parent\n",
    "        solution.reverse()\n",
    "        path = solution\n",
    "        printSuccessLine(source, solution)\n",
    "        break\n",
    "        \n",
    "    printFailLine(node)\n",
    "    print('X')\n",
    "    explored.add(node.state)\n",
    "\n",
    "    for action, state in neighbors_for_person(node.state):\n",
    "        if not frontier.contains_state(state) and state not in explored:\n",
    "            child = Node(state=state, parent=node, action=action)\n",
    "            frontier.add(child)"
   ]
  },
  {
   "cell_type": "markdown",
   "metadata": {},
   "source": [
    "# 6. Print result"
   ]
  },
  {
   "cell_type": "code",
   "execution_count": 11,
   "metadata": {},
   "outputs": [
    {
     "name": "stdout",
     "output_type": "stream",
     "text": [
      "2 degrees of separation.\n",
      "1: Tom Hanks and Kevin Bacon starred in Apollo 13\n",
      "2: Kevin Bacon and Demi Moore starred in A Few Good Men\n"
     ]
    }
   ],
   "source": [
    "if path is None:\n",
    "    print(\"Not connected.\")\n",
    "else:\n",
    "    degrees = len(path)\n",
    "    print(f\"{degrees} degrees of separation.\")\n",
    "    path = [(None, source)] + path\n",
    "    \n",
    "    for i in range(degrees):\n",
    "        person1 = people[path[i][1]][\"name\"]\n",
    "        person2 = people[path[i + 1][1]][\"name\"]\n",
    "        movie = movies[path[i + 1][0]][\"title\"]\n",
    "        print(f\"{i + 1}: {person1} and {person2} starred in {movie}\")"
   ]
  },
  {
   "cell_type": "code",
   "execution_count": null,
   "metadata": {},
   "outputs": [],
   "source": []
  },
  {
   "cell_type": "code",
   "execution_count": null,
   "metadata": {},
   "outputs": [],
   "source": []
  }
 ],
 "metadata": {
  "kernelspec": {
   "display_name": "Python 3",
   "language": "python",
   "name": "python3"
  },
  "language_info": {
   "codemirror_mode": {
    "name": "ipython",
    "version": 3
   },
   "file_extension": ".py",
   "mimetype": "text/x-python",
   "name": "python",
   "nbconvert_exporter": "python",
   "pygments_lexer": "ipython3",
   "version": "3.7.6"
  }
 },
 "nbformat": 4,
 "nbformat_minor": 4
}
