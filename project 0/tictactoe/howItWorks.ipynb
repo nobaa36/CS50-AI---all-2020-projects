{
 "cells": [
  {
   "cell_type": "markdown",
   "metadata": {},
   "source": [
    "# 1.Import Modules"
   ]
  },
  {
   "cell_type": "code",
   "execution_count": 17,
   "metadata": {},
   "outputs": [],
   "source": [
    "import math\n",
    "import copy"
   ]
  },
  {
   "cell_type": "markdown",
   "metadata": {},
   "source": [
    "# 2.Set variables"
   ]
  },
  {
   "cell_type": "code",
   "execution_count": 18,
   "metadata": {},
   "outputs": [],
   "source": [
    "X = \"X\"\n",
    "O = \"O\"\n",
    "EMPTY = None"
   ]
  },
  {
   "cell_type": "markdown",
   "metadata": {},
   "source": [
    "# 3.Hardcode desired state"
   ]
  },
  {
   "cell_type": "code",
   "execution_count": 19,
   "metadata": {},
   "outputs": [],
   "source": [
    "def initial_state():\n",
    "    \"\"\"\n",
    "    Returns starting state of the board.\n",
    "    \"\"\"\n",
    "    return [[X, EMPTY, O],\n",
    "            [O, O, X],\n",
    "            [EMPTY, EMPTY, X]]"
   ]
  },
  {
   "cell_type": "code",
   "execution_count": 20,
   "metadata": {},
   "outputs": [
    {
     "name": "stdout",
     "output_type": "stream",
     "text": [
      "[['X', None, 'O'], ['O', 'O', 'X'], [None, None, 'X']]\n"
     ]
    }
   ],
   "source": [
    "board = initial_state()\n",
    "print(board)"
   ]
  },
  {
   "cell_type": "markdown",
   "metadata": {},
   "source": [
    "# 4.Find optimal move"
   ]
  },
  {
   "cell_type": "code",
   "execution_count": 21,
   "metadata": {},
   "outputs": [],
   "source": [
    "def actions(board):\n",
    "    \"\"\"\n",
    "    Returns set of all possible actions (i, j) available on the board.\n",
    "    \"\"\"\n",
    "    actions = set()\n",
    "    for row_idx , row in enumerate(board):\n",
    "        for cell_idx, cell in enumerate(row):\n",
    "            if cell == EMPTY:\n",
    "                actions.add((row_idx,cell_idx))\n",
    "    \n",
    "    return actions"
   ]
  },
  {
   "cell_type": "code",
   "execution_count": 22,
   "metadata": {},
   "outputs": [],
   "source": [
    "def isMoveValid(board, action):\n",
    "    valid = False\n",
    "    cell = board[action[0]][action[1]]\n",
    "    if cell == EMPTY:\n",
    "        valid = True\n",
    "    \n",
    "    return valid"
   ]
  },
  {
   "cell_type": "code",
   "execution_count": 23,
   "metadata": {},
   "outputs": [],
   "source": [
    "def terminal(board):\n",
    "    \"\"\"\n",
    "    Returns True if game is over, False otherwise.\n",
    "    \"\"\"\n",
    "    gameWinner= winner(board)\n",
    "    # flat lists\n",
    "    board = sum(board, [])\n",
    "    EMPTY_count = board.count(EMPTY)\n",
    "    noMoreMoves = EMPTY_count == 0\n",
    "    if gameWinner == X or gameWinner == O or noMoreMoves:\n",
    "        return True\n",
    "    else:\n",
    "        return False"
   ]
  },
  {
   "cell_type": "code",
   "execution_count": 24,
   "metadata": {},
   "outputs": [],
   "source": [
    "def result(board, action):\n",
    "    \"\"\"\n",
    "    Returns the board that results from making move (i, j) on the board.\n",
    "    \"\"\"\n",
    "    \n",
    "    newBoard = copy.deepcopy(board)\n",
    "    valid = isMoveValid(board, action)\n",
    "    \n",
    "    if not valid: \n",
    "        raise NameError('Move is not valid')\n",
    "    else:\n",
    "        newBoard[action[0]][action[1]] = player(board)\n",
    "        \n",
    "    return newBoard"
   ]
  },
  {
   "cell_type": "code",
   "execution_count": 25,
   "metadata": {},
   "outputs": [],
   "source": [
    "def player(board):\n",
    "    \"\"\"\n",
    "    Returns player who has the next turn on a board.\n",
    "    \"\"\"\n",
    "    #flat lists\n",
    "    board = sum(board, [])\n",
    "    #return X as default\n",
    "    player = X\n",
    "    if X in board or O in board:   \n",
    "        X_count = board.count(X)\n",
    "        O_count = board.count(O)\n",
    "        #O turn is only when O_count is less/equal then then X_count\n",
    "        if O_count < X_count: \n",
    "            player = O\n",
    "    \n",
    "    return player "
   ]
  },
  {
   "cell_type": "code",
   "execution_count": 26,
   "metadata": {},
   "outputs": [],
   "source": [
    "def winner(board):\n",
    "    \"\"\"\n",
    "    Returns the winner of the game, if there is one.\n",
    "    \"\"\"\n",
    "    lines = []\n",
    "    column0 = []\n",
    "    column1 = []\n",
    "    column2 = []\n",
    "    diag0 = []\n",
    "    diag1 = []\n",
    "    \n",
    "    for idx, row in enumerate(board):\n",
    "        lines.append(row);\n",
    "        column0.append(row[0])\n",
    "        column1.append(row[1])\n",
    "        column2.append(row[2])\n",
    "        diag0.append(row[idx])\n",
    "        diag1.append(row[len(board) - idx - 1])\n",
    "        \n",
    "    lines.append(column0)\n",
    "    lines.append(column1)\n",
    "    lines.append(column2)\n",
    "    lines.append(diag0)\n",
    "    lines.append(diag1)\n",
    "    \n",
    "    winner = getWinner(lines)\n",
    "    \n",
    "    return winner"
   ]
  },
  {
   "cell_type": "code",
   "execution_count": 27,
   "metadata": {},
   "outputs": [],
   "source": [
    "def utility(board):\n",
    "    \"\"\"\n",
    "    Returns 1 if X has won the game, -1 if O has won, 0 otherwise.\n",
    "    \"\"\"\n",
    "    gameWinner = winner(board)\n",
    "    if gameWinner == X:\n",
    "        return 1\n",
    "    elif gameWinner == O:\n",
    "        return -1\n",
    "    else:\n",
    "        return 0"
   ]
  },
  {
   "cell_type": "code",
   "execution_count": 28,
   "metadata": {},
   "outputs": [],
   "source": [
    "def getWinner(lines):\n",
    "    winner = None\n",
    "    for line in lines:   \n",
    "        win = line.count(X) == 3 or line.count(O) == 3\n",
    "        if win:\n",
    "            winner = line[0]\n",
    "    \n",
    "    return winner"
   ]
  },
  {
   "cell_type": "code",
   "execution_count": 29,
   "metadata": {},
   "outputs": [],
   "source": [
    "def maxValue(board):\n",
    "    possibleMoves = actions(board)\n",
    "    print('possibleMoves for X are: {}'.format(possibleMoves))\n",
    "    bestResults = []\n",
    "    \n",
    "    \n",
    "    for move in possibleMoves:\n",
    "        bestResult = dict()\n",
    "        print('X moves to {}'.format(move))\n",
    "        newBoard = result(board, move)\n",
    "        if terminal(newBoard): \n",
    "            bestResult[\"value\"] = utility(newBoard)\n",
    "            bestResult[\"action\"] = move\n",
    "            bestResults.append(bestResult)\n",
    "        else: \n",
    "            bestResult = minValue(newBoard)\n",
    "            bestResult[\"action\"] = move\n",
    "            bestResults.append(bestResult)\n",
    "    print('XXXXXXX best results {}'.format(bestResults))\n",
    "    \n",
    "    return max(bestResults, key=lambda x:x['value'])"
   ]
  },
  {
   "cell_type": "code",
   "execution_count": 30,
   "metadata": {},
   "outputs": [],
   "source": [
    "def minValue(board):\n",
    "    possibleMoves = actions(board)\n",
    "    print('possibleMoves for O are: {}'.format(possibleMoves))\n",
    "    bestResults = []\n",
    "    \n",
    "    \n",
    "    for move in possibleMoves:\n",
    "        bestResult = dict()\n",
    "        print('O moves to: {}'.format(move))\n",
    "\n",
    "        newBoard = result(board,move)\n",
    "        if terminal(newBoard):\n",
    "            \n",
    "            bestResult[\"value\"] = utility(newBoard)\n",
    "            bestResult[\"action\"] = move\n",
    "            bestResults.append(bestResult)\n",
    "        else:\n",
    "            bestResult = maxValue(newBoard)\n",
    "            bestResult[\"action\"] = move\n",
    "            bestResults.append(bestResult)\n",
    "    print('OOOOOOO best results {}'.format(bestResults))\n",
    "\n",
    "    return min(bestResults, key=lambda x:x['value'])"
   ]
  },
  {
   "cell_type": "code",
   "execution_count": 31,
   "metadata": {},
   "outputs": [],
   "source": [
    "def minimax(board):\n",
    "    \"\"\"\n",
    "    Returns the optimal action for the current player on the board.\n",
    "    \"\"\"\n",
    "    currentPlayer = player(board)\n",
    "    print('Start player: {}'.format(currentPlayer))\n",
    "    if currentPlayer == X:\n",
    "        optimalAction = maxValue(board)\n",
    "    else: \n",
    "        optimalAction = minValue(board)\n",
    "    \n",
    "\n",
    "    print(\"optimal Action is: {} \".format(optimalAction['action']))\n",
    "    return optimalAction['action']"
   ]
  },
  {
   "cell_type": "code",
   "execution_count": 32,
   "metadata": {},
   "outputs": [
    {
     "name": "stdout",
     "output_type": "stream",
     "text": [
      "Start player: X\n",
      "possibleMoves for X are: {(0, 1), (2, 0), (2, 1)}\n",
      "X moves to (0, 1)\n",
      "possibleMoves for O are: {(2, 0), (2, 1)}\n",
      "O moves to: (2, 0)\n",
      "O moves to: (2, 1)\n",
      "possibleMoves for X are: {(2, 0)}\n",
      "X moves to (2, 0)\n",
      "XXXXXXX best results [{'value': 0, 'action': (2, 0)}]\n",
      "OOOOOOO best results [{'value': -1, 'action': (2, 0)}, {'value': 0, 'action': (2, 1)}]\n",
      "X moves to (2, 0)\n",
      "possibleMoves for O are: {(0, 1), (2, 1)}\n",
      "O moves to: (0, 1)\n",
      "possibleMoves for X are: {(2, 1)}\n",
      "X moves to (2, 1)\n",
      "XXXXXXX best results [{'value': 1, 'action': (2, 1)}]\n",
      "O moves to: (2, 1)\n",
      "possibleMoves for X are: {(0, 1)}\n",
      "X moves to (0, 1)\n",
      "XXXXXXX best results [{'value': 0, 'action': (0, 1)}]\n",
      "OOOOOOO best results [{'value': 1, 'action': (0, 1)}, {'value': 0, 'action': (2, 1)}]\n",
      "X moves to (2, 1)\n",
      "possibleMoves for O are: {(0, 1), (2, 0)}\n",
      "O moves to: (0, 1)\n",
      "possibleMoves for X are: {(2, 0)}\n",
      "X moves to (2, 0)\n",
      "XXXXXXX best results [{'value': 1, 'action': (2, 0)}]\n",
      "O moves to: (2, 0)\n",
      "OOOOOOO best results [{'value': 1, 'action': (0, 1)}, {'value': -1, 'action': (2, 0)}]\n",
      "XXXXXXX best results [{'value': -1, 'action': (0, 1)}, {'value': 0, 'action': (2, 0)}, {'value': -1, 'action': (2, 1)}]\n",
      "optimal Action is: (2, 0) \n"
     ]
    },
    {
     "data": {
      "text/plain": [
       "(2, 0)"
      ]
     },
     "execution_count": 32,
     "metadata": {},
     "output_type": "execute_result"
    }
   ],
   "source": [
    "minimax(board)"
   ]
  },
  {
   "cell_type": "code",
   "execution_count": null,
   "metadata": {},
   "outputs": [],
   "source": []
  },
  {
   "cell_type": "code",
   "execution_count": null,
   "metadata": {},
   "outputs": [],
   "source": []
  },
  {
   "cell_type": "code",
   "execution_count": null,
   "metadata": {},
   "outputs": [],
   "source": []
  },
  {
   "cell_type": "code",
   "execution_count": null,
   "metadata": {},
   "outputs": [],
   "source": []
  },
  {
   "cell_type": "code",
   "execution_count": null,
   "metadata": {},
   "outputs": [],
   "source": []
  },
  {
   "cell_type": "code",
   "execution_count": null,
   "metadata": {},
   "outputs": [],
   "source": []
  },
  {
   "cell_type": "code",
   "execution_count": null,
   "metadata": {},
   "outputs": [],
   "source": []
  },
  {
   "cell_type": "code",
   "execution_count": null,
   "metadata": {},
   "outputs": [],
   "source": []
  },
  {
   "cell_type": "code",
   "execution_count": null,
   "metadata": {},
   "outputs": [],
   "source": []
  },
  {
   "cell_type": "code",
   "execution_count": null,
   "metadata": {},
   "outputs": [],
   "source": []
  },
  {
   "cell_type": "code",
   "execution_count": 6,
   "metadata": {},
   "outputs": [],
   "source": []
  },
  {
   "cell_type": "code",
   "execution_count": null,
   "metadata": {},
   "outputs": [],
   "source": []
  }
 ],
 "metadata": {
  "kernelspec": {
   "display_name": "Python 3",
   "language": "python",
   "name": "python3"
  },
  "language_info": {
   "codemirror_mode": {
    "name": "ipython",
    "version": 3
   },
   "file_extension": ".py",
   "mimetype": "text/x-python",
   "name": "python",
   "nbconvert_exporter": "python",
   "pygments_lexer": "ipython3",
   "version": "3.7.6"
  }
 },
 "nbformat": 4,
 "nbformat_minor": 4
}
